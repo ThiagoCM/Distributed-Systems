# Semelhante ao que foi feito para o B multicast
r_s = Array(Any, 50)
r_tempo_s = Array(Any, 50)

r_a = Array(Any, 50)
r_tempo_a = Array(Any, 50)

for i in 1:50
    r_tempo_s[i] = @timed r_multicast_s(g, "oi! s", println)
    r_s[i] = r_tempo_s[i][2]
    
    r_tempo_a[i] = @timed r_multicast_a(g, "oi! a", println)
    r_a[i] = r_tempo_a[i][2]    
end

# Mesma ideia anterior para o cálculo do erro e plot

using Distributions

# based on http://stackoverflow.com/questions/20425473/calculate-confidence-interval-in-julia
# The confidence interval in the link above is a function, but here it doesn't work due some julia's reason

# CI para assíncrono
x = r_a;
conf_level = 0.95;

alpha = (1 - conf_level);
tstar = quantile(TDist(length(x)-1), 1 - alpha/2);
sdev = sqrt(sum((x - mean(x)).^2) / (length(x) - 1));
SE = sdev/sqrt(length(x));

lo_r, hi_r = mean(x) + [-1, 1] * tstar * SE;

r_mean_a = mean(x)

# CI para síncrono
x = r_s;
conf_level = 0.95;

alpha = (1 - conf_level);
tstar = quantile(TDist(length(x)-1), 1 - alpha/2);
sdev = sqrt(sum((x - mean(x)).^2) / (length(x) - 1));
SE = sdev/sqrt(length(x));

lo_rs, hi_rs = mean(x) + [-1, 1] * tstar * SE;

r_mean_s = mean(x)

# Plotting
using PyPlot

names = ["síncrono", "assíncrono"]
j = [0.5, 0.7]

c = bar(0.5,r_mean_s,color="red",align="center",yerr = lo_rs, hi_rs, label = "síncrono")
d = bar(0.7,r_mean_a,color="blue", yerr = lo_r, hi_r, label = "assíncrono")
title("R_multicast síncrono x assíncrono")
xlabel("R_multicast")
ylabel("Tempo")
legend()
xticks(j, names)
